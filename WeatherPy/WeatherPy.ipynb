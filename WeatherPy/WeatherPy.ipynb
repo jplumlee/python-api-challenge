{
 "cells": [
  {
   "cell_type": "code",
   "execution_count": 1,
   "metadata": {},
   "outputs": [],
   "source": [
    "# Dependencies and Setup\n",
    "import matplotlib.pyplot as plt\n",
    "import pandas as pd\n",
    "import numpy as np\n",
    "import requests\n",
    "import time\n",
    "import json\n",
    "from scipy.stats import linregress\n",
    "\n",
    "# Import API key\n",
    "from api_keys import weather_api_key\n",
    "\n",
    "# Incorporated citipy to determine city based on latitude and longitude\n",
    "from citipy import citipy\n",
    "\n",
    "# Output File (CSV)\n",
    "output_data_file = \"output_data/cities.csv\"\n",
    "\n",
    "# Setup url and query_url for api pulls\n",
    "url = \"http://api.openweathermap.org/data/2.5/weather?\"\n",
    "units = \"metric\"\n",
    "query_url = f\"{url}appid={weather_api_key}&units={units}&q=\"\n",
    "\n",
    "# Range of latitudes and longitudes\n",
    "lat_range = (-90, 90)\n",
    "lng_range = (-180, 180)"
   ]
  },
  {
   "cell_type": "code",
   "execution_count": 2,
   "metadata": {},
   "outputs": [
    {
     "name": "stdout",
     "output_type": "stream",
     "text": [
      "['Paris', 'London', 'Oslo', 'Beijing']\n"
     ]
    }
   ],
   "source": [
    "# List for holding lat_lngs and cities\n",
    "lat_lngs = []\n",
    "cities = []\n",
    "\n",
    "# Create a set of random lat and lng combinations\n",
    "lats = np.random.uniform(lat_range[0], lat_range[1], size=1500)\n",
    "lngs = np.random.uniform(lng_range[0], lng_range[1], size=1500)\n",
    "lat_lngs = zip(lats, lngs)\n",
    "\n",
    "# Identify nearest city for each lat, lng combination\n",
    "for lat_lng in lat_lngs:\n",
    "    city = citipy.nearest_city(lat_lng[0], lat_lng[1]).city_name\n",
    "    \n",
    "# If the city is unique, then add it to a our cities list\n",
    "    if city not in cities:\n",
    "        cities.append(city)\n",
    "\n",
    "# Print the city count to confirm sufficient count\n",
    "total_no_cities = len(cities)\n",
    "print(cities)"
   ]
  },
  {
   "cell_type": "code",
   "execution_count": 5,
   "metadata": {},
   "outputs": [
    {
     "name": "stdout",
     "output_type": "stream",
     "text": [
      "{\n",
      "    \"base\": \"stations\",\n",
      "    \"clouds\": {\n",
      "        \"all\": 43\n",
      "    },\n",
      "    \"cod\": 200,\n",
      "    \"coord\": {\n",
      "        \"lat\": 39.91,\n",
      "        \"lon\": 116.4\n",
      "    },\n",
      "    \"dt\": 1595995384,\n",
      "    \"id\": 1816670,\n",
      "    \"main\": {\n",
      "        \"feels_like\": 36.01,\n",
      "        \"humidity\": 64,\n",
      "        \"pressure\": 1003,\n",
      "        \"temp\": 31.63,\n",
      "        \"temp_max\": 32.22,\n",
      "        \"temp_min\": 31.11\n",
      "    },\n",
      "    \"name\": \"Beijing\",\n",
      "    \"sys\": {\n",
      "        \"country\": \"CN\",\n",
      "        \"id\": 2000022,\n",
      "        \"sunrise\": 1595970608,\n",
      "        \"sunset\": 1596022284,\n",
      "        \"type\": 3\n",
      "    },\n",
      "    \"timezone\": 28800,\n",
      "    \"visibility\": 10000,\n",
      "    \"weather\": [\n",
      "        {\n",
      "            \"description\": \"scattered clouds\",\n",
      "            \"icon\": \"03d\",\n",
      "            \"id\": 802,\n",
      "            \"main\": \"Clouds\"\n",
      "        }\n",
      "    ],\n",
      "    \"wind\": {\n",
      "        \"deg\": 202,\n",
      "        \"speed\": 2.03\n",
      "    }\n",
      "}\n"
     ]
    }
   ],
   "source": [
    "# Perform a weather check on each city using a series of successive API calls.\n",
    "# for city in cities:\n",
    "#     response = requests.get(query_url + city).json()\n",
    "\n",
    "# print(json.dumps(response, indent=4, sort_keys=True))"
   ]
  },
  {
   "cell_type": "code",
   "execution_count": 6,
   "metadata": {},
   "outputs": [
    {
     "name": "stdout",
     "output_type": "stream",
     "text": [
      "City 1 of 4: Paris\n",
      "City 2 of 4: London\n",
      "City 3 of 4: Oslo\n",
      "City 4 of 4: Beijing\n"
     ]
    }
   ],
   "source": [
    "city_id = []\n",
    "city_name = []\n",
    "cloudiness = []\n",
    "country = []\n",
    "date = []\n",
    "humidity = []\n",
    "lat = []\n",
    "lng = []\n",
    "max_temp = []\n",
    "wind_speed = []\n",
    "\n",
    "city_number = 0\n",
    "# Perform a weather check on each city using a series of successive API calls.\n",
    "for city in cities:\n",
    "    response = requests.get(query_url + city).json()\n",
    "    city_number += 1\n",
    "    try:\n",
    "\n",
    "        print(f\"City {city_number} of {total_no_cities}: {response['name']}\")\n",
    "        city_id.append(response['id'])\n",
    "        city_name.append(response['name'])\n",
    "        cloudiness.append(response['clouds']['all'])\n",
    "        country.append(response['sys']['country'])\n",
    "        date.append(response['dt'])\n",
    "        humidity.append(response['main']['humidity'])\n",
    "        lat.append(response['coord']['lat'])\n",
    "        lng.append(response['coord']['lon'])\n",
    "        max_temp.append(response['main']['temp_max'])\n",
    "        wind_speed.append(response['wind']['speed'])\n",
    "        \n",
    "        \n",
    "    except:\n",
    "        print('No no no no')\n",
    "        pass\n",
    "    \n",
    "#     if 60 calls per min:\n",
    "#         then wait\n",
    "# Include a print log of each city as it's being processed (with the city number and city name).\n"
   ]
  },
  {
   "cell_type": "code",
   "execution_count": 9,
   "metadata": {},
   "outputs": [],
   "source": [
    "# Export the city data into a .csv.\n",
    "\n",
    "# Display the DataFrame\n",
    "weather_df = pd.DataFrame({'City_ID': city_id, 'City': cities, 'Cloudiness': cloudiness,\n",
    "                           'Country': country, 'Date': date, 'Humidity': humidity, 'Lat': lat, 'Lon': lng, 'Max Temp': max_temp, 'Wind Speed': wind_speed})\n",
    "                         \n",
    "weather_df.to_csv(output_data_file, index=False)\n",
    "# weather_df.head(100)"
   ]
  },
  {
   "cell_type": "code",
   "execution_count": null,
   "metadata": {},
   "outputs": [],
   "source": []
  }
 ],
 "metadata": {
  "kernelspec": {
   "display_name": "Python 3",
   "language": "python",
   "name": "python3"
  },
  "language_info": {
   "codemirror_mode": {
    "name": "ipython",
    "version": 3
   },
   "file_extension": ".py",
   "mimetype": "text/x-python",
   "name": "python",
   "nbconvert_exporter": "python",
   "pygments_lexer": "ipython3",
   "version": "3.6.10"
  }
 },
 "nbformat": 4,
 "nbformat_minor": 4
}
